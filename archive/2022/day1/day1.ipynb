{
 "cells": [
  {
   "cell_type": "code",
   "execution_count": 6,
   "metadata": {},
   "outputs": [
    {
     "name": "stdout",
     "output_type": "stream",
     "text": [
      "max calories of one:  71023\n",
      "total of top three:  206289\n"
     ]
    }
   ],
   "source": [
    "f = open(\"input.txt\")\n",
    "content = f.read()\n",
    "\n",
    "elf_cals = content.split('\\n\\n')\n",
    "# print(elf_cals)\n",
    "\n",
    "max_cals = 0\n",
    "top_three = [0] * 3\n",
    "\n",
    "for i in elf_cals:\n",
    "    lines_for_one_elf=i.split('\\n')\n",
    "    total_cals = 0\n",
    "    for food_item in lines_for_one_elf:\n",
    "        if (food_item) != '':\n",
    "            total_cals += int(food_item)\n",
    "    max_cals = max(max_cals,total_cals)\n",
    "    if total_cals > min(top_three):\n",
    "        min_index = top_three.index(min(top_three))\n",
    "        top_three.pop(min_index)\n",
    "        top_three.insert(1,total_cals)\n",
    "\n",
    "total_three = sum(top_three)\n",
    "\n",
    "print(\"max calories of one: \",max_cals)\n",
    "print(\"total of top three: \",total_three)\n",
    "\n",
    "f.close()\n"
   ]
  }
 ],
 "metadata": {
  "kernelspec": {
   "display_name": "Python 3.9.16 64-bit",
   "language": "python",
   "name": "python3"
  },
  "language_info": {
   "codemirror_mode": {
    "name": "ipython",
    "version": 3
   },
   "file_extension": ".py",
   "mimetype": "text/x-python",
   "name": "python",
   "nbconvert_exporter": "python",
   "pygments_lexer": "ipython3",
   "version": "3.9.16"
  },
  "orig_nbformat": 4,
  "vscode": {
   "interpreter": {
    "hash": "397704579725e15f5c7cb49fe5f0341eb7531c82d19f2c29d197e8b64ab5776b"
   }
  }
 },
 "nbformat": 4,
 "nbformat_minor": 2
}

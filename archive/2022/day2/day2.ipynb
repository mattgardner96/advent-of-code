{
 "cells": [
  {
   "cell_type": "code",
   "execution_count": 5,
   "metadata": {},
   "outputs": [
    {
     "name": "stdout",
     "output_type": "stream",
     "text": [
      "score 10310\n"
     ]
    }
   ],
   "source": [
    "f = open('input.txt')\n",
    "content = f.read()\n",
    "\n",
    "rounds = content.split('\\n')\n",
    "\n",
    "opponent_plays = {'A':'Rock','B':'Paper','C':'Scissors'}\n",
    "your_plays = {'X':'Rock','Y':'Paper','Z':'Scissors'}\n",
    "\n",
    "\n",
    "score = 0\n",
    "\n",
    "play_values = list(your_plays.keys())\n",
    "\n",
    "\n",
    "for line in rounds:\n",
    "    this_play = line.split(' ')\n",
    "    score += play_values.index(this_play[1]) + 1\n",
    "    if opponent_plays[this_play[0]] == your_plays[this_play[1]]:\n",
    "        #print('draw')\n",
    "        score += 3\n",
    "    elif (this_play[0] == 'A' and this_play[1] == 'Y') or (this_play[0] == 'B' and this_play[1] == 'Z') or (this_play[0] == 'C' and this_play[1] == 'X'):\n",
    "        # winning combos for you\n",
    "        # print('you win')\n",
    "        score += 6\n",
    "    else:\n",
    "        # losing combos for you\n",
    "        # print('you lose')\n",
    "        score += 0\n",
    "\n",
    "print('score',score)\n",
    "\n",
    "f.close()\n",
    "\n"
   ]
  },
  {
   "cell_type": "code",
   "execution_count": 7,
   "metadata": {},
   "outputs": [
    {
     "name": "stdout",
     "output_type": "stream",
     "text": [
      "score 14859\n"
     ]
    }
   ],
   "source": [
    "f = open('input.txt')\n",
    "content = f.read()\n",
    "\n",
    "rounds = content.split('\\n')\n",
    "\n",
    "opponent_plays = {'A':'Rock','B':'Paper','C':'Scissors'}\n",
    "your_plays = {'X':'Rock','Y':'Paper','Z':'Scissors'}\n",
    "\n",
    "\n",
    "score = 0\n",
    "\n",
    "opp_play_values = list(opponent_plays.keys())\n",
    "your_play_values = list(your_plays.keys())\n",
    "\n",
    "for line in rounds:\n",
    "    this_play = line.split(' ')\n",
    "    opp_val = opp_play_values.index(this_play[0]) # 0, 1, or 2 depending on what the opponent plays\n",
    "    # detect the outcome\n",
    "    # switch on win, lose, draw\n",
    "    # sum points based on the clever key method\n",
    "    match this_play[1]:\n",
    "        case 'X':\n",
    "            # this is a loss\n",
    "            if opp_val == 0:\n",
    "                score += 3\n",
    "            else:\n",
    "                score += opp_val\n",
    "            score += 0\n",
    "        case 'Y':\n",
    "            # this is a draw\n",
    "            score += opp_val + 1\n",
    "            score += 3\n",
    "        case 'Z':\n",
    "            # this is a win\n",
    "            if opp_val == 2:\n",
    "                score += 1\n",
    "            else:\n",
    "                score += opp_val + 2\n",
    "            score += 6\n",
    "        case _:\n",
    "            print('never hit')\n",
    "    \n",
    "print(\"score\",score)\n",
    "\n",
    "\n",
    "f.close()"
   ]
  }
 ],
 "metadata": {
  "kernelspec": {
   "display_name": "Python 3",
   "language": "python",
   "name": "python3"
  },
  "language_info": {
   "codemirror_mode": {
    "name": "ipython",
    "version": 3
   },
   "file_extension": ".py",
   "mimetype": "text/x-python",
   "name": "python",
   "nbconvert_exporter": "python",
   "pygments_lexer": "ipython3",
   "version": "3.10.8"
  },
  "orig_nbformat": 4,
  "vscode": {
   "interpreter": {
    "hash": "aee8b7b246df8f9039afb4144a1f6fd8d2ca17a180786b69acc140d282b71a49"
   }
  }
 },
 "nbformat": 4,
 "nbformat_minor": 2
}
